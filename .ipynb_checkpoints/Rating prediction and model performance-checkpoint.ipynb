{
 "cells": [
  {
   "cell_type": "markdown",
   "metadata": {},
   "source": [
    "## Rating Prediction and model performance comparison"
   ]
  },
  {
   "cell_type": "code",
   "execution_count": 1,
   "metadata": {},
   "outputs": [],
   "source": [
    "import pandas as pd\n",
    "import numpy as np\n",
    "import seaborn as sns\n",
    "import matplotlib.pyplot as plt\n",
    "import scipy.stats as stats\n",
    "import statsmodels.formula.api as smf\n",
    "pd.set_option('display.max_colwidth', 1000)\n",
    "from sklearn.model_selection import train_test_split\n",
    "from sklearn.naive_bayes import MultinomialNB\n",
    "from sklearn.linear_model import LogisticRegression\n",
    "from sklearn.metrics import confusion_matrix,accuracy_score,f1_score\n",
    "from sklearn.svm import SVC\n",
    "from sklearn.svm import LinearSVC\n",
    "from sklearn.ensemble import RandomForestClassifier"
   ]
  },
  {
   "cell_type": "markdown",
   "metadata": {},
   "source": [
    "### 1.1 Load the data"
   ]
  },
  {
   "cell_type": "code",
   "execution_count": 2,
   "metadata": {},
   "outputs": [
    {
     "data": {
      "text/html": [
       "<div>\n",
       "<style scoped>\n",
       "    .dataframe tbody tr th:only-of-type {\n",
       "        vertical-align: middle;\n",
       "    }\n",
       "\n",
       "    .dataframe tbody tr th {\n",
       "        vertical-align: top;\n",
       "    }\n",
       "\n",
       "    .dataframe thead th {\n",
       "        text-align: right;\n",
       "    }\n",
       "</style>\n",
       "<table border=\"1\" class=\"dataframe\">\n",
       "  <thead>\n",
       "    <tr style=\"text-align: right;\">\n",
       "      <th></th>\n",
       "      <th>date</th>\n",
       "      <th>summary</th>\n",
       "      <th>review</th>\n",
       "      <th>rating</th>\n",
       "    </tr>\n",
       "  </thead>\n",
       "  <tbody>\n",
       "    <tr>\n",
       "      <td>31663</td>\n",
       "      <td>2012-05-04</td>\n",
       "      <td>Cute &amp; contain mess, but not biodegradeable</td>\n",
       "      <td>These were the first table-toppers I purchased and I loved that they helped contain messes and also kept my little one from eating food off of a table. But, I soon encountered a better solutions... there are other table toppers that are biodegradeable (the Pooh ones are plastic). The other brand also is mostly black and white, and my my older kiddo enjoys coloring on them. Overall these type of products are great for early self feeders, but I prefer the ones that will biodegrade.</td>\n",
       "      <td>3</td>\n",
       "    </tr>\n",
       "    <tr>\n",
       "      <td>38752</td>\n",
       "      <td>2010-04-07</td>\n",
       "      <td>Love It!!!</td>\n",
       "      <td>Received this item in the mail today.  I will be using it as a sheet saver in anticipation of newborn poopy blowouts.  The cloth part of the pad is soft and cute whereas the backing looks to be and claims to be waterproof.  It is a great size and a great price.  I will have to see how it holds up in the wash but if all goes well, I will probably get a couple more for backup.  Love it! :)</td>\n",
       "      <td>5</td>\n",
       "    </tr>\n",
       "    <tr>\n",
       "      <td>76347</td>\n",
       "      <td>2012-11-20</td>\n",
       "      <td>Affordable and functional</td>\n",
       "      <td>This bouncy seat has few frills, but it gets the job done. We've used this chair daily since day one. The vibration is soothing (at four months we've only changed the batteries once) and it bounces easily. She can now even bounce herself when she kicks her legs. I feel like the toy bar is the perfect height (despite another review). When she was old enough to actually grab at things she could reach the toys.  It does sit at more of an angle than other brands, but it was never a problem for my newborn. I feel that we will get longer use of it because she isn't completely reclined in it.</td>\n",
       "      <td>5</td>\n",
       "    </tr>\n",
       "    <tr>\n",
       "      <td>42857</td>\n",
       "      <td>2011-04-15</td>\n",
       "      <td>She LOVES this player!</td>\n",
       "      <td>We first received this when she was 4 months old, and now she's 6 months.  From day one she was fascinated by the colors and music, and she just LOVES this thing!  I would say 9 times out of 10 when she's laying down for a diaper change and she starts to cry, I can hand this to her and she stops.  When she's awake she only seems to be truly happy sitting up or standing up...she's not a big fan of just lying there, and especially not a fan of tummy time!  So, this little player comes in handy for us a lot!  I hope it lasts for a while.</td>\n",
       "      <td>5</td>\n",
       "    </tr>\n",
       "    <tr>\n",
       "      <td>89474</td>\n",
       "      <td>2013-07-17</td>\n",
       "      <td>Not like they used to be</td>\n",
       "      <td>I used to love these wipes. And then something changed. They must have started using a new solution or something, because the smell of them changed (and the new smell is not good). I have stopped buying and am currently looking into using other brands instead.</td>\n",
       "      <td>2</td>\n",
       "    </tr>\n",
       "  </tbody>\n",
       "</table>\n",
       "</div>"
      ],
      "text/plain": [
       "             date                                      summary  \\\n",
       "31663  2012-05-04  Cute & contain mess, but not biodegradeable   \n",
       "38752  2010-04-07                                   Love It!!!   \n",
       "76347  2012-11-20                    Affordable and functional   \n",
       "42857  2011-04-15                       She LOVES this player!   \n",
       "89474  2013-07-17                     Not like they used to be   \n",
       "\n",
       "                                                                                                                                                                                                                                                                                                                                                                                                                                                                                                                                                                                                                 review  \\\n",
       "31663                                                                                                              These were the first table-toppers I purchased and I loved that they helped contain messes and also kept my little one from eating food off of a table. But, I soon encountered a better solutions... there are other table toppers that are biodegradeable (the Pooh ones are plastic). The other brand also is mostly black and white, and my my older kiddo enjoys coloring on them. Overall these type of products are great for early self feeders, but I prefer the ones that will biodegrade.   \n",
       "38752                                                                                                                                                                                                            Received this item in the mail today.  I will be using it as a sheet saver in anticipation of newborn poopy blowouts.  The cloth part of the pad is soft and cute whereas the backing looks to be and claims to be waterproof.  It is a great size and a great price.  I will have to see how it holds up in the wash but if all goes well, I will probably get a couple more for backup.  Love it! :)   \n",
       "76347  This bouncy seat has few frills, but it gets the job done. We've used this chair daily since day one. The vibration is soothing (at four months we've only changed the batteries once) and it bounces easily. She can now even bounce herself when she kicks her legs. I feel like the toy bar is the perfect height (despite another review). When she was old enough to actually grab at things she could reach the toys.  It does sit at more of an angle than other brands, but it was never a problem for my newborn. I feel that we will get longer use of it because she isn't completely reclined in it.   \n",
       "42857                                                      We first received this when she was 4 months old, and now she's 6 months.  From day one she was fascinated by the colors and music, and she just LOVES this thing!  I would say 9 times out of 10 when she's laying down for a diaper change and she starts to cry, I can hand this to her and she stops.  When she's awake she only seems to be truly happy sitting up or standing up...she's not a big fan of just lying there, and especially not a fan of tummy time!  So, this little player comes in handy for us a lot!  I hope it lasts for a while.   \n",
       "89474                                                                                                                                                                                                                                                                                                                                              I used to love these wipes. And then something changed. They must have started using a new solution or something, because the smell of them changed (and the new smell is not good). I have stopped buying and am currently looking into using other brands instead.   \n",
       "\n",
       "       rating  \n",
       "31663       3  \n",
       "38752       5  \n",
       "76347       5  \n",
       "42857       5  \n",
       "89474       2  "
      ]
     },
     "execution_count": 2,
     "metadata": {},
     "output_type": "execute_result"
    }
   ],
   "source": [
    "# Load data\n",
    "amreviews = pd.read_csv(\"amazon-reviews.csv.bz2\", sep='\\t')\n",
    "#Viewing the data\n",
    "amreviews.sample(5)"
   ]
  },
  {
   "cell_type": "code",
   "execution_count": 3,
   "metadata": {},
   "outputs": [
    {
     "data": {
      "text/plain": [
       "(205331, 4)"
      ]
     },
     "execution_count": 3,
     "metadata": {},
     "output_type": "execute_result"
    }
   ],
   "source": [
    "# view dimensions\n",
    "amreviews.shape"
   ]
  },
  {
   "cell_type": "markdown",
   "metadata": {},
   "source": [
    "### 1.2 Remove missing and empty observations for review and rating"
   ]
  },
  {
   "cell_type": "code",
   "execution_count": 4,
   "metadata": {},
   "outputs": [
    {
     "data": {
      "text/plain": [
       "80"
      ]
     },
     "execution_count": 4,
     "metadata": {},
     "output_type": "execute_result"
    }
   ],
   "source": [
    "#Check for na values\n",
    "amreviews.review.isna().sum()"
   ]
  },
  {
   "cell_type": "code",
   "execution_count": 5,
   "metadata": {},
   "outputs": [],
   "source": [
    "#drop na \n",
    "amreviews_mod = amreviews.drop(amreviews[amreviews.review.isna()].index).reset_index()"
   ]
  },
  {
   "cell_type": "code",
   "execution_count": 6,
   "metadata": {},
   "outputs": [
    {
     "data": {
      "text/html": [
       "<div>\n",
       "<style scoped>\n",
       "    .dataframe tbody tr th:only-of-type {\n",
       "        vertical-align: middle;\n",
       "    }\n",
       "\n",
       "    .dataframe tbody tr th {\n",
       "        vertical-align: top;\n",
       "    }\n",
       "\n",
       "    .dataframe thead th {\n",
       "        text-align: right;\n",
       "    }\n",
       "</style>\n",
       "<table border=\"1\" class=\"dataframe\">\n",
       "  <thead>\n",
       "    <tr style=\"text-align: right;\">\n",
       "      <th></th>\n",
       "      <th>index</th>\n",
       "      <th>date</th>\n",
       "      <th>summary</th>\n",
       "      <th>review</th>\n",
       "      <th>rating</th>\n",
       "    </tr>\n",
       "  </thead>\n",
       "  <tbody>\n",
       "    <tr>\n",
       "      <td>73615</td>\n",
       "      <td>73643</td>\n",
       "      <td>2013-08-09</td>\n",
       "      <td>Great set!</td>\n",
       "      <td>By far my grandson's favorite toy! He loves someone to stack these so he can knock them over. Although some have gone missing so I see another purchase of these in the near future.</td>\n",
       "      <td>5</td>\n",
       "    </tr>\n",
       "    <tr>\n",
       "      <td>84627</td>\n",
       "      <td>84661</td>\n",
       "      <td>2013-04-12</td>\n",
       "      <td>wonderful</td>\n",
       "      <td>wonderful item. larger and much softer than the standard aden and anais swaddle wraps. somewhat thinner, but not affecting durability. the subtle color and designs are very nice.</td>\n",
       "      <td>5</td>\n",
       "    </tr>\n",
       "    <tr>\n",
       "      <td>190054</td>\n",
       "      <td>190124</td>\n",
       "      <td>2017-11-15</td>\n",
       "      <td>Made my nighttime lotion and oil just soak in LOVE THIS</td>\n",
       "      <td>This reminds me of the paraffin treatment that makes dead skin roll off your feet. I LOVE THIS PRODUCT!! My skin has never felt so smooth ever. My face drank up my nighttime lotion and oil. I will buy more of this. WOW product</td>\n",
       "      <td>5</td>\n",
       "    </tr>\n",
       "  </tbody>\n",
       "</table>\n",
       "</div>"
      ],
      "text/plain": [
       "         index        date  \\\n",
       "73615    73643  2013-08-09   \n",
       "84627    84661  2013-04-12   \n",
       "190054  190124  2017-11-15   \n",
       "\n",
       "                                                        summary  \\\n",
       "73615                                                Great set!   \n",
       "84627                                                 wonderful   \n",
       "190054  Made my nighttime lotion and oil just soak in LOVE THIS   \n",
       "\n",
       "                                                                                                                                                                                                                                    review  \\\n",
       "73615                                                 By far my grandson's favorite toy! He loves someone to stack these so he can knock them over. Although some have gone missing so I see another purchase of these in the near future.   \n",
       "84627                                                   wonderful item. larger and much softer than the standard aden and anais swaddle wraps. somewhat thinner, but not affecting durability. the subtle color and designs are very nice.   \n",
       "190054  This reminds me of the paraffin treatment that makes dead skin roll off your feet. I LOVE THIS PRODUCT!! My skin has never felt so smooth ever. My face drank up my nighttime lotion and oil. I will buy more of this. WOW product   \n",
       "\n",
       "        rating  \n",
       "73615        5  \n",
       "84627        5  \n",
       "190054       5  "
      ]
     },
     "execution_count": 6,
     "metadata": {},
     "output_type": "execute_result"
    }
   ],
   "source": [
    "#Check data\n",
    "amreviews_mod.sample(3)"
   ]
  },
  {
   "cell_type": "code",
   "execution_count": 7,
   "metadata": {},
   "outputs": [],
   "source": [
    "# drop previous index column\n",
    "amreviews_mod.drop('index', axis = 1, inplace= True)"
   ]
  },
  {
   "cell_type": "code",
   "execution_count": 8,
   "metadata": {},
   "outputs": [
    {
     "data": {
      "text/plain": [
       "(array([], dtype=int64),)"
      ]
     },
     "execution_count": 8,
     "metadata": {},
     "output_type": "execute_result"
    }
   ],
   "source": [
    "#Check for empty strings \n",
    "np.where(amreviews.review.apply(lambda x: x == ''))"
   ]
  },
  {
   "cell_type": "code",
   "execution_count": 9,
   "metadata": {},
   "outputs": [
    {
     "data": {
      "text/plain": [
       "5    120434\n",
       "4     42916\n",
       "3     21911\n",
       "2     10939\n",
       "1      9131\n",
       "Name: rating, dtype: int64"
      ]
     },
     "execution_count": 9,
     "metadata": {},
     "output_type": "execute_result"
    }
   ],
   "source": [
    "#Check for value counts for rating\n",
    "amreviews.rating.value_counts(dropna=False)"
   ]
  },
  {
   "cell_type": "markdown",
   "metadata": {},
   "source": [
    "There are no missing values/empty values for review and rating in the sample."
   ]
  },
  {
   "cell_type": "markdown",
   "metadata": {},
   "source": [
    "### 1.3 Create outcome variable"
   ]
  },
  {
   "cell_type": "code",
   "execution_count": 10,
   "metadata": {},
   "outputs": [
    {
     "data": {
      "text/html": [
       "<div>\n",
       "<style scoped>\n",
       "    .dataframe tbody tr th:only-of-type {\n",
       "        vertical-align: middle;\n",
       "    }\n",
       "\n",
       "    .dataframe tbody tr th {\n",
       "        vertical-align: top;\n",
       "    }\n",
       "\n",
       "    .dataframe thead th {\n",
       "        text-align: right;\n",
       "    }\n",
       "</style>\n",
       "<table border=\"1\" class=\"dataframe\">\n",
       "  <thead>\n",
       "    <tr style=\"text-align: right;\">\n",
       "      <th></th>\n",
       "      <th>date</th>\n",
       "      <th>summary</th>\n",
       "      <th>review</th>\n",
       "      <th>rating</th>\n",
       "      <th>5_star</th>\n",
       "    </tr>\n",
       "  </thead>\n",
       "  <tbody>\n",
       "    <tr>\n",
       "      <td>52833</td>\n",
       "      <td>2011-07-08</td>\n",
       "      <td>my baby sitter loved these</td>\n",
       "      <td>my baby sitter loved these diaper liners! I need to get some more as well! Great for diaper changes in cloth!</td>\n",
       "      <td>5</td>\n",
       "      <td>1</td>\n",
       "    </tr>\n",
       "    <tr>\n",
       "      <td>11035</td>\n",
       "      <td>2013-01-02</td>\n",
       "      <td>Wasn't as good as I hoped</td>\n",
       "      <td>I thought I would really like this one, but  I found that I was constantly fighting it. I hated washing the cover, because it was such a huge pain to try to get it back on. Also, half of it kept sliding off the bed. It wasn't as comfortable as I hoped, and I couldn't seem to get it positioned correctly to help support my growing belly.</td>\n",
       "      <td>2</td>\n",
       "      <td>0</td>\n",
       "    </tr>\n",
       "    <tr>\n",
       "      <td>101566</td>\n",
       "      <td>2013-04-25</td>\n",
       "      <td>great for swaddling newborns, many uses later on too!</td>\n",
       "      <td>The material is super soft yet not bulky. We swaddled out baby in these until he got too big (around 1.5 month). I love how quickly these dry - I would often hand-wash these and would dry inside the apartment in no time. I know use them as towels, to clean spit ups, as covers for the carseat/stroller, as light stroller blankets, as furniture covers when the babe decides to lounge on couches when we are out and about. They are great for everything!</td>\n",
       "      <td>5</td>\n",
       "      <td>1</td>\n",
       "    </tr>\n",
       "    <tr>\n",
       "      <td>188646</td>\n",
       "      <td>2015-10-27</td>\n",
       "      <td>Silky texture, blur is an accurate description</td>\n",
       "      <td>This gives a cover that really does 'blur' on the skin. The texture is somewhere between a very soft and smooth sand, and silicon. It lays on your skin  instead of staining it. If you use any other cosmetic products, I think this should go above and not below. I have olive, slightly tanned skin and this gives a nice blurred highlight to my skin and then, over time, seems to fade back a bit. There is no scent and a very little goes a very long way. You do not need much. I think there is just a bit more pigment in this product than the norm for BB creams. Overall a good product.</td>\n",
       "      <td>5</td>\n",
       "      <td>1</td>\n",
       "    </tr>\n",
       "  </tbody>\n",
       "</table>\n",
       "</div>"
      ],
      "text/plain": [
       "              date                                                summary  \\\n",
       "52833   2011-07-08                             my baby sitter loved these   \n",
       "11035   2013-01-02                              Wasn't as good as I hoped   \n",
       "101566  2013-04-25  great for swaddling newborns, many uses later on too!   \n",
       "188646  2015-10-27         Silky texture, blur is an accurate description   \n",
       "\n",
       "                                                                                                                                                                                                                                                                                                                                                                                                                                                                                                                                                                                                         review  \\\n",
       "52833                                                                                                                                                                                                                                                                                                                                                                                                                                                                                             my baby sitter loved these diaper liners! I need to get some more as well! Great for diaper changes in cloth!   \n",
       "11035                                                                                                                                                                                                                                                         I thought I would really like this one, but  I found that I was constantly fighting it. I hated washing the cover, because it was such a huge pain to try to get it back on. Also, half of it kept sliding off the bed. It wasn't as comfortable as I hoped, and I couldn't seem to get it positioned correctly to help support my growing belly.   \n",
       "101566                                                                                                                                      The material is super soft yet not bulky. We swaddled out baby in these until he got too big (around 1.5 month). I love how quickly these dry - I would often hand-wash these and would dry inside the apartment in no time. I know use them as towels, to clean spit ups, as covers for the carseat/stroller, as light stroller blankets, as furniture covers when the babe decides to lounge on couches when we are out and about. They are great for everything!   \n",
       "188646  This gives a cover that really does 'blur' on the skin. The texture is somewhere between a very soft and smooth sand, and silicon. It lays on your skin  instead of staining it. If you use any other cosmetic products, I think this should go above and not below. I have olive, slightly tanned skin and this gives a nice blurred highlight to my skin and then, over time, seems to fade back a bit. There is no scent and a very little goes a very long way. You do not need much. I think there is just a bit more pigment in this product than the norm for BB creams. Overall a good product.   \n",
       "\n",
       "        rating  5_star  \n",
       "52833        5       1  \n",
       "11035        2       0  \n",
       "101566       5       1  \n",
       "188646       5       1  "
      ]
     },
     "execution_count": 10,
     "metadata": {},
     "output_type": "execute_result"
    }
   ],
   "source": [
    "# create outcome variable\n",
    "amreviews_mod['5_star'] = np.where(amreviews_mod.rating < 5, 0, 1)\n",
    "amreviews_mod.sample(4)"
   ]
  },
  {
   "cell_type": "markdown",
   "metadata": {},
   "source": [
    "### 1.4 Sample data"
   ]
  },
  {
   "cell_type": "code",
   "execution_count": 11,
   "metadata": {
    "scrolled": true
   },
   "outputs": [
    {
     "data": {
      "text/html": [
       "<div>\n",
       "<style scoped>\n",
       "    .dataframe tbody tr th:only-of-type {\n",
       "        vertical-align: middle;\n",
       "    }\n",
       "\n",
       "    .dataframe tbody tr th {\n",
       "        vertical-align: top;\n",
       "    }\n",
       "\n",
       "    .dataframe thead th {\n",
       "        text-align: right;\n",
       "    }\n",
       "</style>\n",
       "<table border=\"1\" class=\"dataframe\">\n",
       "  <thead>\n",
       "    <tr style=\"text-align: right;\">\n",
       "      <th></th>\n",
       "      <th>date</th>\n",
       "      <th>summary</th>\n",
       "      <th>review</th>\n",
       "      <th>rating</th>\n",
       "      <th>5_star</th>\n",
       "    </tr>\n",
       "  </thead>\n",
       "  <tbody>\n",
       "    <tr>\n",
       "      <td>11811</td>\n",
       "      <td>2006-06-19</td>\n",
       "      <td>This carrier was not for us</td>\n",
       "      <td>We received this carrier as a gift, so we didn't have much input on the selection.  We liked the idea of it being a front or back carrier, however it just doesn't seem to work with our bodies.  Our daughter seemed to be carried with her head by my ear when I tried it as a front pack.  The plastic side buckles to hold the child in place were not that secure, so when we used it we still held her for fear of them opening up - defeats the purpose of having your hands free!  We much rather use our FABULOUS Quattro tour system than this!!!</td>\n",
       "      <td>2</td>\n",
       "      <td>0</td>\n",
       "    </tr>\n",
       "    <tr>\n",
       "      <td>173365</td>\n",
       "      <td>2014-02-17</td>\n",
       "      <td>Nice Nail Polish</td>\n",
       "      <td>I'm not a connoisseur of different brands, but when I did an online search, Essie and OPI came up as as some of the better brands. I chose Essie because of the colors that so many of the other reviews where raving about. However, I liked the color of this nail polish better on the screen than on my nails. But the color is objective, it probably just doesn't go with my skin tone. The quality seems good - I had to put on about 3 thin coats to get a solid color, and if you dry them well in between, it will stay on for at least 5 or 6 days.</td>\n",
       "      <td>3</td>\n",
       "      <td>0</td>\n",
       "    </tr>\n",
       "    <tr>\n",
       "      <td>204694</td>\n",
       "      <td>2014-04-17</td>\n",
       "      <td>My favorite pedal - great for metal</td>\n",
       "      <td>I bought this based on video reviews on the net.  My first impressions:To my ears, if the OCD / Ultimate OD simulates \"fat\" power tube distortion, this pedal simulates a lightly distorted tube pre-amp, with a bit of edge, sharpness, the kind of edge the tube amps have.  The focus knob seems like a tone knob, maybe more in the upper mids than the treble, but it does the job well.I wish it had a bit more gain.  Surprisingly, this pedal with the gain on 10 and the tone on 10, gives me a great metal tone all by itself!  If i boost the pedal with say a few db of clean boost, it gets me exactly where I'd want to be (a dry, tight metal tone, kinda 5150ish.  And while this isn't the purpose of the pedal, it is how I've ended up using it just because it sounds better than any amp sim and produces less heat than my tube amps.  It's tight, its raw, there is no fizz and no boomyness, just a healthy low end.  Crank the knobs on this thing to 10 and you have a very aggressive, tight tone that ma...</td>\n",
       "      <td>5</td>\n",
       "      <td>1</td>\n",
       "    </tr>\n",
       "    <tr>\n",
       "      <td>127503</td>\n",
       "      <td>2014-06-07</td>\n",
       "      <td>What we expected, easy installation</td>\n",
       "      <td>We just got this seat yesterday and judging by the few low-star comments I was expecting a nightmare of an installation. It was actually really easy for me and took about 5 minutes. I think people get a confused because there are a few different installation set ups, but you just have to follow the instructions for the one you are doing and ignore the rest.I primarily bought this seat in this color because they do not use flame retardants on the cover. It does have that typical &amp;#34;chemical&amp;#34; smell to it from the packaging and foam inside, but I feel like a lot of that will come off when I wash it. The material is soft and cozy and,  yes, the seat is huge, but that's to be expected for a car seat that can turn into a booster and hold 100lbs. We can not fit it rear-facing behind the driver's seat of our mid-sized SUV, and I am only about 5'8. The passenger seat does have to be moved up quite a bit to fit it in, but my wife is small so it's not a big deal. I can see that it would...</td>\n",
       "      <td>4</td>\n",
       "      <td>0</td>\n",
       "    </tr>\n",
       "    <tr>\n",
       "      <td>182068</td>\n",
       "      <td>2018-04-16</td>\n",
       "      <td>Gets better as it sits</td>\n",
       "      <td>Edited:\\n\\nI originally was not crazy about this formula, but after using it several days, I like it. It is pretty full coverage, and it sits well and doesnt seem to oxidize. It does come off easily to the touch, but overall, I like this for a more full coverage look than their B.B. cream.\\n\\nOriginal review:\\n\\nI have been using this brands BB creams for years. While I love those, although they could cover a little better, Im not a big fan of this one. It goes on more difficulty than the BB cream, and I have to use more product too. This foundation also clings to any dry skin illuminating it.\\n\\nI kept the foundation on for an hour or so and looked at my face. Surprisingly, it seemed to have settled nicely. My dry skin was no longer obvious, and it left me with a nice smooth finish. Overall, this is just okay. It may just be my skin, but I prefer the B.B. cream.</td>\n",
       "      <td>4</td>\n",
       "      <td>0</td>\n",
       "    </tr>\n",
       "    <tr>\n",
       "      <td>169332</td>\n",
       "      <td>2013-11-04</td>\n",
       "      <td>Great shampoo overall</td>\n",
       "      <td>I really like this shampoo. It cleans effectively, smells nice, and lathers well. Not sure if it has done anything to noticeably thicken my hair, but works well as a daily shampoo.</td>\n",
       "      <td>4</td>\n",
       "      <td>0</td>\n",
       "    </tr>\n",
       "    <tr>\n",
       "      <td>107421</td>\n",
       "      <td>2014-02-07</td>\n",
       "      <td>Perfect for 4 month old</td>\n",
       "      <td>I bought these for my child for Christmas as she was just beginning to reach out and feel the different textures of things.  This was perfect for her and she still loves them, especially the ball with the rattle inside she loves to shake it and hear the noise she is making with it.</td>\n",
       "      <td>5</td>\n",
       "      <td>1</td>\n",
       "    </tr>\n",
       "  </tbody>\n",
       "</table>\n",
       "</div>"
      ],
      "text/plain": [
       "              date                              summary  \\\n",
       "11811   2006-06-19          This carrier was not for us   \n",
       "173365  2014-02-17                     Nice Nail Polish   \n",
       "204694  2014-04-17  My favorite pedal - great for metal   \n",
       "127503  2014-06-07  What we expected, easy installation   \n",
       "182068  2018-04-16               Gets better as it sits   \n",
       "169332  2013-11-04                Great shampoo overall   \n",
       "107421  2014-02-07              Perfect for 4 month old   \n",
       "\n",
       "                                                                                                                                                                                                                                                                                                                                                                                                                                                                                                                                                                                                                                                                                                                                                                                                                                                                                                                                                                                                                                         review  \\\n",
       "11811                                                                                                                                                                                                                                                                                                                                                                                                                                                                               We received this carrier as a gift, so we didn't have much input on the selection.  We liked the idea of it being a front or back carrier, however it just doesn't seem to work with our bodies.  Our daughter seemed to be carried with her head by my ear when I tried it as a front pack.  The plastic side buckles to hold the child in place were not that secure, so when we used it we still held her for fear of them opening up - defeats the purpose of having your hands free!  We much rather use our FABULOUS Quattro tour system than this!!!   \n",
       "173365                                                                                                                                                                                                                                                                                                                                                                                                                                                                           I'm not a connoisseur of different brands, but when I did an online search, Essie and OPI came up as as some of the better brands. I chose Essie because of the colors that so many of the other reviews where raving about. However, I liked the color of this nail polish better on the screen than on my nails. But the color is objective, it probably just doesn't go with my skin tone. The quality seems good - I had to put on about 3 thin coats to get a solid color, and if you dry them well in between, it will stay on for at least 5 or 6 days.   \n",
       "204694  I bought this based on video reviews on the net.  My first impressions:To my ears, if the OCD / Ultimate OD simulates \"fat\" power tube distortion, this pedal simulates a lightly distorted tube pre-amp, with a bit of edge, sharpness, the kind of edge the tube amps have.  The focus knob seems like a tone knob, maybe more in the upper mids than the treble, but it does the job well.I wish it had a bit more gain.  Surprisingly, this pedal with the gain on 10 and the tone on 10, gives me a great metal tone all by itself!  If i boost the pedal with say a few db of clean boost, it gets me exactly where I'd want to be (a dry, tight metal tone, kinda 5150ish.  And while this isn't the purpose of the pedal, it is how I've ended up using it just because it sounds better than any amp sim and produces less heat than my tube amps.  It's tight, its raw, there is no fizz and no boomyness, just a healthy low end.  Crank the knobs on this thing to 10 and you have a very aggressive, tight tone that ma...   \n",
       "127503  We just got this seat yesterday and judging by the few low-star comments I was expecting a nightmare of an installation. It was actually really easy for me and took about 5 minutes. I think people get a confused because there are a few different installation set ups, but you just have to follow the instructions for the one you are doing and ignore the rest.I primarily bought this seat in this color because they do not use flame retardants on the cover. It does have that typical &#34;chemical&#34; smell to it from the packaging and foam inside, but I feel like a lot of that will come off when I wash it. The material is soft and cozy and,  yes, the seat is huge, but that's to be expected for a car seat that can turn into a booster and hold 100lbs. We can not fit it rear-facing behind the driver's seat of our mid-sized SUV, and I am only about 5'8. The passenger seat does have to be moved up quite a bit to fit it in, but my wife is small so it's not a big deal. I can see that it would...   \n",
       "182068                                                                                                                              Edited:\\n\\nI originally was not crazy about this formula, but after using it several days, I like it. It is pretty full coverage, and it sits well and doesnt seem to oxidize. It does come off easily to the touch, but overall, I like this for a more full coverage look than their B.B. cream.\\n\\nOriginal review:\\n\\nI have been using this brands BB creams for years. While I love those, although they could cover a little better, Im not a big fan of this one. It goes on more difficulty than the BB cream, and I have to use more product too. This foundation also clings to any dry skin illuminating it.\\n\\nI kept the foundation on for an hour or so and looked at my face. Surprisingly, it seemed to have settled nicely. My dry skin was no longer obvious, and it left me with a nice smooth finish. Overall, this is just okay. It may just be my skin, but I prefer the B.B. cream.   \n",
       "169332                                                                                                                                                                                                                                                                                                                                                                                                                                                                                                                                                                                                                                                                                                                                                                                                                                                     I really like this shampoo. It cleans effectively, smells nice, and lathers well. Not sure if it has done anything to noticeably thicken my hair, but works well as a daily shampoo.   \n",
       "107421                                                                                                                                                                                                                                                                                                                                                                                                                                                                                                                                                                                                                                                                                                                                               I bought these for my child for Christmas as she was just beginning to reach out and feel the different textures of things.  This was perfect for her and she still loves them, especially the ball with the rattle inside she loves to shake it and hear the noise she is making with it.   \n",
       "\n",
       "        rating  5_star  \n",
       "11811        2       0  \n",
       "173365       3       0  \n",
       "204694       5       1  \n",
       "127503       4       0  \n",
       "182068       4       0  \n",
       "169332       4       0  \n",
       "107421       5       1  "
      ]
     },
     "execution_count": 11,
     "metadata": {},
     "output_type": "execute_result"
    }
   ],
   "source": [
    "#check some sample reviews\n",
    "np.random.seed(400)\n",
    "amreviews_mod.sample(7)"
   ]
  },
  {
   "cell_type": "markdown",
   "metadata": {},
   "source": [
    "I feel as a person it would be easy to gauge a 5 star and less than 5 star review. However it might be difficult for the algorithm/s to predict unless we have perfectly glowing review. Take for example this review - \"I typically dislike facial sunscreens because they tend to feel oily and heavy.\"\n",
    "\n",
    "The words dislike, dont expect etc might lead the algorithm to rate this as a less than 5 star review."
   ]
  },
  {
   "cell_type": "markdown",
   "metadata": {},
   "source": [
    "### 1.5 Convert reviews into BOW using Count Vectorizer"
   ]
  },
  {
   "cell_type": "code",
   "execution_count": 12,
   "metadata": {},
   "outputs": [],
   "source": [
    "# import libaries\n",
    "import sklearn\n",
    "from sklearn.feature_extraction.text import CountVectorizer\n",
    "from sklearn.feature_extraction import stop_words"
   ]
  },
  {
   "cell_type": "code",
   "execution_count": 13,
   "metadata": {},
   "outputs": [],
   "source": [
    "#drop rating column\n",
    "amreviews_mod.drop('rating', axis=1, inplace=True)"
   ]
  },
  {
   "cell_type": "code",
   "execution_count": 14,
   "metadata": {},
   "outputs": [],
   "source": [
    "# convert in BOW\n",
    "vectorizer = CountVectorizer(stop_words=stop_words.ENGLISH_STOP_WORDS, binary = True)\n",
    "X = vectorizer.fit_transform(amreviews_mod.review.values)"
   ]
  },
  {
   "cell_type": "markdown",
   "metadata": {},
   "source": [
    "### 1.6 Here come the models"
   ]
  },
  {
   "cell_type": "code",
   "execution_count": 15,
   "metadata": {},
   "outputs": [],
   "source": [
    "#set random seed\n",
    "np.random.seed(894523)"
   ]
  },
  {
   "cell_type": "code",
   "execution_count": 16,
   "metadata": {},
   "outputs": [],
   "source": [
    "#Splitting data into train and test\n",
    "X_train, X_test, y_train, y_test = train_test_split(X, amreviews_mod['5_star'], test_size=0.2)"
   ]
  },
  {
   "cell_type": "code",
   "execution_count": 17,
   "metadata": {},
   "outputs": [],
   "source": [
    "# function that takes supervised learning algorithm, trains the model and prints model accuracy\n",
    "def model_run(model,X_train, X_test, y_train, y_test):\n",
    "    model.fit(X_train, y_train)\n",
    "    prediction = model.predict(X_test)\n",
    "    print(\"Model Accuracy:\", accuracy_score(prediction, y_test))\n",
    "    print(\"Model F1-Score:\", f1_score(prediction, y_test))"
   ]
  },
  {
   "cell_type": "markdown",
   "metadata": {},
   "source": [
    "### SVC with basic linear kernel"
   ]
  },
  {
   "cell_type": "code",
   "execution_count": 18,
   "metadata": {},
   "outputs": [
    {
     "name": "stdout",
     "output_type": "stream",
     "text": [
      "Model Accuracy: 0.7591776083408444\n",
      "Model F1-Score: 0.8016293442491372\n"
     ]
    },
    {
     "name": "stderr",
     "output_type": "stream",
     "text": [
      "/Users/hshetty/opt/anaconda3/lib/python3.7/site-packages/sklearn/svm/base.py:929: ConvergenceWarning: Liblinear failed to converge, increase the number of iterations.\n",
      "  \"the number of iterations.\", ConvergenceWarning)\n"
     ]
    }
   ],
   "source": [
    "model_run(LinearSVC(),X_train, X_test, y_train, y_test)"
   ]
  },
  {
   "cell_type": "markdown",
   "metadata": {},
   "source": [
    "### SVC with basic polynomial kernel"
   ]
  },
  {
   "cell_type": "code",
   "execution_count": 19,
   "metadata": {},
   "outputs": [
    {
     "name": "stderr",
     "output_type": "stream",
     "text": [
      "/Users/hshetty/opt/anaconda3/lib/python3.7/site-packages/sklearn/svm/base.py:193: FutureWarning: The default value of gamma will change from 'auto' to 'scale' in version 0.22 to account better for unscaled features. Set gamma explicitly to 'auto' or 'scale' to avoid this warning.\n",
      "  \"avoid this warning.\", FutureWarning)\n",
      "/Users/hshetty/opt/anaconda3/lib/python3.7/site-packages/sklearn/svm/base.py:241: ConvergenceWarning: Solver terminated early (max_iter=1000).  Consider pre-processing your data with StandardScaler or MinMaxScaler.\n",
      "  % self.max_iter, ConvergenceWarning)\n"
     ]
    },
    {
     "name": "stdout",
     "output_type": "stream",
     "text": [
      "Model Accuracy: 0.5902170470877689\n",
      "Model F1-Score: 0.7422310756972113\n"
     ]
    }
   ],
   "source": [
    "poly_model = SVC(kernel = 'poly',degree=2, max_iter = 1000)\n",
    "model_run(poly_model,X_train, X_test, y_train, y_test)"
   ]
  },
  {
   "cell_type": "markdown",
   "metadata": {},
   "source": [
    "### SVC with rbf kernel"
   ]
  },
  {
   "cell_type": "code",
   "execution_count": 20,
   "metadata": {},
   "outputs": [
    {
     "name": "stderr",
     "output_type": "stream",
     "text": [
      "/Users/hshetty/opt/anaconda3/lib/python3.7/site-packages/sklearn/svm/base.py:193: FutureWarning: The default value of gamma will change from 'auto' to 'scale' in version 0.22 to account better for unscaled features. Set gamma explicitly to 'auto' or 'scale' to avoid this warning.\n",
      "  \"avoid this warning.\", FutureWarning)\n",
      "/Users/hshetty/opt/anaconda3/lib/python3.7/site-packages/sklearn/svm/base.py:241: ConvergenceWarning: Solver terminated early (max_iter=1000).  Consider pre-processing your data with StandardScaler or MinMaxScaler.\n",
      "  % self.max_iter, ConvergenceWarning)\n"
     ]
    },
    {
     "name": "stdout",
     "output_type": "stream",
     "text": [
      "Model Accuracy: 0.5904606465128742\n",
      "Model F1-Score: 0.7422421194652276\n"
     ]
    }
   ],
   "source": [
    "rbf_model = SVC(kernel = 'rbf', max_iter = 1000)\n",
    "model_run(rbf_model,X_train, X_test, y_train, y_test)"
   ]
  },
  {
   "cell_type": "markdown",
   "metadata": {},
   "source": [
    "### SVC with sigmoid kernel"
   ]
  },
  {
   "cell_type": "code",
   "execution_count": 21,
   "metadata": {},
   "outputs": [
    {
     "name": "stderr",
     "output_type": "stream",
     "text": [
      "/Users/hshetty/opt/anaconda3/lib/python3.7/site-packages/sklearn/svm/base.py:193: FutureWarning: The default value of gamma will change from 'auto' to 'scale' in version 0.22 to account better for unscaled features. Set gamma explicitly to 'auto' or 'scale' to avoid this warning.\n",
      "  \"avoid this warning.\", FutureWarning)\n",
      "/Users/hshetty/opt/anaconda3/lib/python3.7/site-packages/sklearn/svm/base.py:241: ConvergenceWarning: Solver terminated early (max_iter=1000).  Consider pre-processing your data with StandardScaler or MinMaxScaler.\n",
      "  % self.max_iter, ConvergenceWarning)\n"
     ]
    },
    {
     "name": "stdout",
     "output_type": "stream",
     "text": [
      "Model Accuracy: 0.5904850064553848\n",
      "Model F1-Score: 0.7422772079903109\n"
     ]
    }
   ],
   "source": [
    "sig_model = SVC(kernel = 'sigmoid', max_iter = 1000)\n",
    "model_run(sig_model,X_train, X_test, y_train, y_test)"
   ]
  },
  {
   "cell_type": "markdown",
   "metadata": {},
   "source": [
    "### Logistic Regression"
   ]
  },
  {
   "cell_type": "code",
   "execution_count": 22,
   "metadata": {
    "scrolled": true
   },
   "outputs": [
    {
     "name": "stderr",
     "output_type": "stream",
     "text": [
      "/Users/hshetty/opt/anaconda3/lib/python3.7/site-packages/sklearn/linear_model/logistic.py:432: FutureWarning: Default solver will be changed to 'lbfgs' in 0.22. Specify a solver to silence this warning.\n",
      "  FutureWarning)\n"
     ]
    },
    {
     "name": "stdout",
     "output_type": "stream",
     "text": [
      "Model Accuracy: 0.7757423692480085\n",
      "Model F1-Score: 0.8163647969360888\n"
     ]
    }
   ],
   "source": [
    "model_run(LogisticRegression(),X_train, X_test, y_train, y_test)"
   ]
  },
  {
   "cell_type": "markdown",
   "metadata": {},
   "source": [
    "### Random Forest Classifier"
   ]
  },
  {
   "cell_type": "code",
   "execution_count": 23,
   "metadata": {},
   "outputs": [
    {
     "name": "stderr",
     "output_type": "stream",
     "text": [
      "/Users/hshetty/opt/anaconda3/lib/python3.7/site-packages/sklearn/ensemble/forest.py:245: FutureWarning: The default value of n_estimators will change from 10 in version 0.20 to 100 in 0.22.\n",
      "  \"10 in version 0.20 to 100 in 0.22.\", FutureWarning)\n"
     ]
    },
    {
     "name": "stdout",
     "output_type": "stream",
     "text": [
      "Model Accuracy: 0.7137219556161848\n",
      "Model F1-Score: 0.7547681649346855\n"
     ]
    }
   ],
   "source": [
    "#Creating a pipeling to create the BOW and then apply Random Forest Classifier\n",
    "model_run(RandomForestClassifier(),X_train, X_test, y_train, y_test)"
   ]
  },
  {
   "cell_type": "markdown",
   "metadata": {},
   "source": [
    "### Multinomial NB"
   ]
  },
  {
   "cell_type": "code",
   "execution_count": 24,
   "metadata": {},
   "outputs": [
    {
     "name": "stdout",
     "output_type": "stream",
     "text": [
      "Model Accuracy: 0.7503593091520304\n",
      "Model F1-Score: 0.8083052749719417\n"
     ]
    }
   ],
   "source": [
    "model_run(MultinomialNB(alpha=10),X_train, X_test, y_train, y_test)"
   ]
  },
  {
   "cell_type": "markdown",
   "metadata": {},
   "source": [
    "### Logistic Regression with solver = saga and penalty  range"
   ]
  },
  {
   "cell_type": "code",
   "execution_count": 28,
   "metadata": {
    "scrolled": true
   },
   "outputs": [
    {
     "name": "stdout",
     "output_type": "stream",
     "text": [
      "For C= 0.1\n",
      "Model Accuracy: 0.78353755085138\n",
      "Model F1-Score: 0.8242762221167536\n",
      "\n",
      "For C= 0.30000000000000004\n",
      "Model Accuracy: 0.7819541545881952\n",
      "Model F1-Score: 0.822502924904321\n",
      "\n",
      "For C= 0.5000000000000001\n",
      "Model Accuracy: 0.7812477162553897\n",
      "Model F1-Score: 0.8217475882329588\n",
      "\n",
      "For C= 0.7000000000000001\n",
      "Model Accuracy: 0.780492558037563\n",
      "Model F1-Score: 0.8210505411577798\n",
      "\n",
      "For C= 0.9000000000000001\n",
      "Model Accuracy: 0.7802245986699471\n",
      "Model F1-Score: 0.8208214172227519\n",
      "\n"
     ]
    }
   ],
   "source": [
    "c = np.arange(0.1,1,0.2)\n",
    "\n",
    "for pen in c:\n",
    "    print(\"For C=\", pen)\n",
    "    model_run(LogisticRegression(solver='saga', C=pen),X_train, X_test, y_train, y_test)\n",
    "    print()"
   ]
  },
  {
   "cell_type": "markdown",
   "metadata": {},
   "source": [
    "source - https://scikit-learn.org/stable/modules/generated/sklearn.linear_model.LogisticRegression.html?highlight=logisticregression#sklearn.linear_model.LogisticRegression"
   ]
  },
  {
   "cell_type": "markdown",
   "metadata": {},
   "source": [
    "### 1.7 Best model amongst chosen ones\n",
    "\n",
    "For rating classification I chose the following main models: \n",
    "- Support Vector Classifier (linear, rbf, polynomial and sigmoid)\n",
    "- Logistic Regression\n",
    "- Multinomial Naive Bayes\n",
    "- Random Forest Classifier\n",
    "\n",
    "I first ran basic implementations for each and compared performance. Out of all the above models, Logistic Regression performed the best with an accuracy rate of 78% and a F1-score of 82.42%.\n",
    "\n",
    "I then chose to tune the hyperparameters for Logistic Regression and discovered that I got the best performance when I selected the solver as 'sag' and the regularization term as 0.1. The model performance seemed to degrade with increasing value of C"
   ]
  },
  {
   "cell_type": "markdown",
   "metadata": {},
   "source": [
    "### 1.8 Model prediction vs manual prediction"
   ]
  },
  {
   "cell_type": "code",
   "execution_count": 26,
   "metadata": {},
   "outputs": [],
   "source": [
    "model = LogisticRegression(solver='saga', C=0.1)\n",
    "model.fit(X_train, y_train)\n",
    "prediction = model.predict(X)"
   ]
  },
  {
   "cell_type": "code",
   "execution_count": 27,
   "metadata": {},
   "outputs": [
    {
     "data": {
      "text/html": [
       "<div>\n",
       "<style scoped>\n",
       "    .dataframe tbody tr th:only-of-type {\n",
       "        vertical-align: middle;\n",
       "    }\n",
       "\n",
       "    .dataframe tbody tr th {\n",
       "        vertical-align: top;\n",
       "    }\n",
       "\n",
       "    .dataframe thead th {\n",
       "        text-align: right;\n",
       "    }\n",
       "</style>\n",
       "<table border=\"1\" class=\"dataframe\">\n",
       "  <thead>\n",
       "    <tr style=\"text-align: right;\">\n",
       "      <th></th>\n",
       "      <th>date</th>\n",
       "      <th>summary</th>\n",
       "      <th>review</th>\n",
       "      <th>5_star</th>\n",
       "      <th>prediction</th>\n",
       "    </tr>\n",
       "  </thead>\n",
       "  <tbody>\n",
       "    <tr>\n",
       "      <td>57697</td>\n",
       "      <td>2012-11-08</td>\n",
       "      <td>Not quite as good as the Graco Jumper Bumper</td>\n",
       "      <td>Our son is a jumper...he's loved it since he was 4-5 mths old &amp; still loves it at 10mths.  We own two of these - this one for home &amp; the Graco Jumper Bumper for the office.  Originally - I preferred this one - mainly because of the toy.  It spins - my son loves spinny things.  We've now removed the toy from the jumper &amp; it's one of his favorite toys (he could care less when he's jumping).  But now that he's bigger - 10mths &amp; 22lbs - this one really is not suitable for him.  The weight limit I believe is 25lbs, whereas the Graco Jumper Bumper weight limit is supposedly 90 something (which is absurd - no one at 90lbs could fit in that thing, let alone jump) - but still - it means that it comfortably fits him - without me sitting there watching tensely to make sure the spring doesn't fail or the rope doesn't give way.  Additionally - the graco jumper bumper has - as the name implies - a bumper - a rubber edge.  Not too big of a thing when they're 4-5mths old - but at 10mths my boy can...</td>\n",
       "      <td>0</td>\n",
       "      <td>1</td>\n",
       "    </tr>\n",
       "    <tr>\n",
       "      <td>117555</td>\n",
       "      <td>2013-03-10</td>\n",
       "      <td>Cute and functional</td>\n",
       "      <td>Love the looks of this hamper. Great construction. Love that clothes can just be thrown in instead of having to lift a lid while holding a baby.</td>\n",
       "      <td>0</td>\n",
       "      <td>1</td>\n",
       "    </tr>\n",
       "    <tr>\n",
       "      <td>97863</td>\n",
       "      <td>2012-02-04</td>\n",
       "      <td>No complaints; feels sturdy and safe for my son</td>\n",
       "      <td>I was torn between the pricier seats and a less expensive option which seems to have similar safety features.  I went with the britax because of its great reviews and I have not been disappointed.  I had no problem putting it in my car and adjusting it as my son grows up.  I would recommend this britax to a friend.</td>\n",
       "      <td>1</td>\n",
       "      <td>0</td>\n",
       "    </tr>\n",
       "    <tr>\n",
       "      <td>75410</td>\n",
       "      <td>2014-06-07</td>\n",
       "      <td>Best Bibs Ever</td>\n",
       "      <td>I don't always use bibs but when I do, I only use these. They are the best bibs ever. The large size and over-the-shoulder design keep messy little eaters relatively clean. They also wash well and true to the manufacturer's claims, get softer with repeated washings. They also stay cute even as they fade. I have never used them as burp cloths but as bibs they more than suffice.</td>\n",
       "      <td>1</td>\n",
       "      <td>0</td>\n",
       "    </tr>\n",
       "    <tr>\n",
       "      <td>162832</td>\n",
       "      <td>2014-07-20</td>\n",
       "      <td>Four Stars</td>\n",
       "      <td>Love this color! It's so pretty and coraly. Goes with every skin tone.</td>\n",
       "      <td>0</td>\n",
       "      <td>1</td>\n",
       "    </tr>\n",
       "    <tr>\n",
       "      <td>118623</td>\n",
       "      <td>2011-11-08</td>\n",
       "      <td>Battery/Charging Issues? Please read this before you give up.</td>\n",
       "      <td>I have had the Summer Infant \"BestView\" monitor (an older version of this one; ref ASIN B001NAATW0) for about a year. We have liked it for the most part.  The biggest problem is with the battery life.After about 9 or 10 months, it simply wouldn't take or hold a charge.  Very frustrating!  I was about to trash it and buy another, until I discovered that there is an easy solution.  Inside the parent unit are 3 low-performing rechargeable AA batteries.  They're cheap Chinese PsOS, and can be replaced with something a lot better.  Just unscrew the cover and swap them out! I like the Sanyo Eneloop brand personally, but any higher end Ni-MH rechargeable battery will work. Those will charge right in the unit and should do a much better job keeping a charge for you.  Good luck!</td>\n",
       "      <td>1</td>\n",
       "      <td>0</td>\n",
       "    </tr>\n",
       "    <tr>\n",
       "      <td>9570</td>\n",
       "      <td>2012-07-10</td>\n",
       "      <td>Not 100% pleased</td>\n",
       "      <td>After just a few washes the multi-colored stitching around the edges are separating on many of the cloths. I've decided to just use these for the diaper bag and get some much plusher and sturdier ones for home.</td>\n",
       "      <td>0</td>\n",
       "      <td>1</td>\n",
       "    </tr>\n",
       "    <tr>\n",
       "      <td>177441</td>\n",
       "      <td>2013-04-28</td>\n",
       "      <td>The color is not what I expected</td>\n",
       "      <td>Nice polish but I have used this color in the salon and it actually should go on clear and not a light pink. Not sure if the wrong tag was put on this shellac but I kept it and will make use of it until it is gone.</td>\n",
       "      <td>0</td>\n",
       "      <td>1</td>\n",
       "    </tr>\n",
       "    <tr>\n",
       "      <td>13629</td>\n",
       "      <td>2012-10-28</td>\n",
       "      <td>Great value</td>\n",
       "      <td>We received this changing table as a gift. It was easy to put together and is very sturdy. It fits everything we need to diaper on a daily basis.</td>\n",
       "      <td>0</td>\n",
       "      <td>1</td>\n",
       "    </tr>\n",
       "    <tr>\n",
       "      <td>132681</td>\n",
       "      <td>2013-05-01</td>\n",
       "      <td>Very good versatile gate... not quite perfect, but we'd buy it again</td>\n",
       "      <td>This is a very good gate, and we'd definitely buy it again.  I'll go through all of the positive and negative points that we have found after buying it and using it for a few weeks.First, let's talk about installation.  This was generally quite easy to accomplish with minimal fuss and time required.  I installed the whole gate in about an hour from opening the box through completed installation.  Considering that this was combined with keeping my twin 1-year-olds safe, happy, and occupied, it should take less than half an hour for most people.  Installation consisted of:* Selecting the installation location* Tracing the screw locations on the wall* Drilling holes in the wall* Installing anchors in the holes (I had a plentiful supply of appropriate anchors to use, but you might need some from your local hardware store)* Screwing the anchor plates to the prepared locations using the included screws* Extending the gate* Attaching the gate to the anchors (it's a simple matter of droppi...</td>\n",
       "      <td>0</td>\n",
       "      <td>1</td>\n",
       "    </tr>\n",
       "  </tbody>\n",
       "</table>\n",
       "</div>"
      ],
      "text/plain": [
       "              date  \\\n",
       "57697   2012-11-08   \n",
       "117555  2013-03-10   \n",
       "97863   2012-02-04   \n",
       "75410   2014-06-07   \n",
       "162832  2014-07-20   \n",
       "118623  2011-11-08   \n",
       "9570    2012-07-10   \n",
       "177441  2013-04-28   \n",
       "13629   2012-10-28   \n",
       "132681  2013-05-01   \n",
       "\n",
       "                                                                     summary  \\\n",
       "57697                           Not quite as good as the Graco Jumper Bumper   \n",
       "117555                                                   Cute and functional   \n",
       "97863                        No complaints; feels sturdy and safe for my son   \n",
       "75410                                                         Best Bibs Ever   \n",
       "162832                                                            Four Stars   \n",
       "118623         Battery/Charging Issues? Please read this before you give up.   \n",
       "9570                                                        Not 100% pleased   \n",
       "177441                                      The color is not what I expected   \n",
       "13629                                                            Great value   \n",
       "132681  Very good versatile gate... not quite perfect, but we'd buy it again   \n",
       "\n",
       "                                                                                                                                                                                                                                                                                                                                                                                                                                                                                                                                                                                                                                                                                                                                                                                                                                                                                                                                                                                                                                         review  \\\n",
       "57697   Our son is a jumper...he's loved it since he was 4-5 mths old & still loves it at 10mths.  We own two of these - this one for home & the Graco Jumper Bumper for the office.  Originally - I preferred this one - mainly because of the toy.  It spins - my son loves spinny things.  We've now removed the toy from the jumper & it's one of his favorite toys (he could care less when he's jumping).  But now that he's bigger - 10mths & 22lbs - this one really is not suitable for him.  The weight limit I believe is 25lbs, whereas the Graco Jumper Bumper weight limit is supposedly 90 something (which is absurd - no one at 90lbs could fit in that thing, let alone jump) - but still - it means that it comfortably fits him - without me sitting there watching tensely to make sure the spring doesn't fail or the rope doesn't give way.  Additionally - the graco jumper bumper has - as the name implies - a bumper - a rubber edge.  Not too big of a thing when they're 4-5mths old - but at 10mths my boy can...   \n",
       "117555                                                                                                                                                                                                                                                                                                                                                                                                                                                                                                                                                                                                                                                                                                                                                                                                                                                                                         Love the looks of this hamper. Great construction. Love that clothes can just be thrown in instead of having to lift a lid while holding a baby.   \n",
       "97863                                                                                                                                                                                                                                                                                                                                                                                                                                                                                                                                                                                                                                                                                                              I was torn between the pricier seats and a less expensive option which seems to have similar safety features.  I went with the britax because of its great reviews and I have not been disappointed.  I had no problem putting it in my car and adjusting it as my son grows up.  I would recommend this britax to a friend.   \n",
       "75410                                                                                                                                                                                                                                                                                                                                                                                                                                                                                                                                                                                                                                               I don't always use bibs but when I do, I only use these. They are the best bibs ever. The large size and over-the-shoulder design keep messy little eaters relatively clean. They also wash well and true to the manufacturer's claims, get softer with repeated washings. They also stay cute even as they fade. I have never used them as burp cloths but as bibs they more than suffice.   \n",
       "162832                                                                                                                                                                                                                                                                                                                                                                                                                                                                                                                                                                                                                                                                                                                                                                                                                                                                                                                                                                   Love this color! It's so pretty and coraly. Goes with every skin tone.   \n",
       "118623                                                                                                                                                                                                                             I have had the Summer Infant \"BestView\" monitor (an older version of this one; ref ASIN B001NAATW0) for about a year. We have liked it for the most part.  The biggest problem is with the battery life.After about 9 or 10 months, it simply wouldn't take or hold a charge.  Very frustrating!  I was about to trash it and buy another, until I discovered that there is an easy solution.  Inside the parent unit are 3 low-performing rechargeable AA batteries.  They're cheap Chinese PsOS, and can be replaced with something a lot better.  Just unscrew the cover and swap them out! I like the Sanyo Eneloop brand personally, but any higher end Ni-MH rechargeable battery will work. Those will charge right in the unit and should do a much better job keeping a charge for you.  Good luck!   \n",
       "9570                                                                                                                                                                                                                                                                                                                                                                                                                                                                                                                                                                                                                                                                                                                                                                                                                         After just a few washes the multi-colored stitching around the edges are separating on many of the cloths. I've decided to just use these for the diaper bag and get some much plusher and sturdier ones for home.   \n",
       "177441                                                                                                                                                                                                                                                                                                                                                                                                                                                                                                                                                                                                                                                                                                                                                                                                                   Nice polish but I have used this color in the salon and it actually should go on clear and not a light pink. Not sure if the wrong tag was put on this shellac but I kept it and will make use of it until it is gone.   \n",
       "13629                                                                                                                                                                                                                                                                                                                                                                                                                                                                                                                                                                                                                                                                                                                                                                                                                                                                                         We received this changing table as a gift. It was easy to put together and is very sturdy. It fits everything we need to diaper on a daily basis.   \n",
       "132681  This is a very good gate, and we'd definitely buy it again.  I'll go through all of the positive and negative points that we have found after buying it and using it for a few weeks.First, let's talk about installation.  This was generally quite easy to accomplish with minimal fuss and time required.  I installed the whole gate in about an hour from opening the box through completed installation.  Considering that this was combined with keeping my twin 1-year-olds safe, happy, and occupied, it should take less than half an hour for most people.  Installation consisted of:* Selecting the installation location* Tracing the screw locations on the wall* Drilling holes in the wall* Installing anchors in the holes (I had a plentiful supply of appropriate anchors to use, but you might need some from your local hardware store)* Screwing the anchor plates to the prepared locations using the included screws* Extending the gate* Attaching the gate to the anchors (it's a simple matter of droppi...   \n",
       "\n",
       "        5_star  prediction  \n",
       "57697        0           1  \n",
       "117555       0           1  \n",
       "97863        1           0  \n",
       "75410        1           0  \n",
       "162832       0           1  \n",
       "118623       1           0  \n",
       "9570         0           1  \n",
       "177441       0           1  \n",
       "13629        0           1  \n",
       "132681       0           1  "
      ]
     },
     "execution_count": 27,
     "metadata": {},
     "output_type": "execute_result"
    }
   ],
   "source": [
    "amreviews_mod['prediction'] = prediction\n",
    "amreviews_mod.iloc[np.where(amreviews_mod['5_star'] != amreviews_mod.prediction)].sample(10)"
   ]
  },
  {
   "cell_type": "markdown",
   "metadata": {},
   "source": [
    "The Logistic Regression model predictions generally correspond to the rating I would assign to the review. It does slip up in the following cases (based on above reviews):\n",
    "-  When the customer gives an ambivalent review but still goes ahead and gives a 5 star rating to the product.\n",
    "-  When the customer mentions issues with previous products to provide contrast with the performance/quality of the one they have. \n",
    "- When the review isn't bad as such but the customer assigns a lower rating due to varied personal reasons."
   ]
  }
 ],
 "metadata": {
  "kernelspec": {
   "display_name": "Python 3",
   "language": "python",
   "name": "python3"
  },
  "language_info": {
   "codemirror_mode": {
    "name": "ipython",
    "version": 3
   },
   "file_extension": ".py",
   "mimetype": "text/x-python",
   "name": "python",
   "nbconvert_exporter": "python",
   "pygments_lexer": "ipython3",
   "version": "3.7.4"
  }
 },
 "nbformat": 4,
 "nbformat_minor": 2
}
